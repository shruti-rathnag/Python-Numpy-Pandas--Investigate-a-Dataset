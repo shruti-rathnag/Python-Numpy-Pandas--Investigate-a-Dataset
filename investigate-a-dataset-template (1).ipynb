{
 "cells": [
  {
   "cell_type": "markdown",
   "metadata": {},
   "source": [
    "\n",
    "\n",
    "# Project: Health Expenditure Data Analysis \n",
    "## Table of Contents\n",
    "<ul>\n",
    "<li><a href=\"#intro\">Introduction</a></li>\n",
    "<li><a href=\"#wrangling\">Data Wrangling</a></li>\n",
    "<li><a href=\"#eda\">Exploratory Data Analysis</a></li>\n",
    "<li><a href=\"#conclusions\">Conclusions</a></li>\n",
    "</ul>"
   ]
  },
  {
   "cell_type": "markdown",
   "metadata": {},
   "source": [
    "<a id='intro'></a>\n",
    "## Introduction\n",
    "\n",
    ">In this project we analyze and compare data from numerous datasets containing Health Expenditure by different entities across various geographical subregions.\n",
    "\n",
    ">The following datasets in the field of healthcare economics have been selected for analysis from Gapminder https://www.gapminder.org/data/:\n",
    "  * Government Share of Total Health Spending Percentage- Percentage of total health expenditure paid by government entities for various countries\n",
    "  * Private Share of Total Health Spending Percentage- Percentage of total health expenditure paid by private entities for various countries\n",
    "  * Out of Pocket Share of Total Health Spending Percentage- Percentage of total health expenditure paid directly out of pocket by individuals for various countries \n",
    "  * Total Health Spending Percent of GDP - The sum of public and private health expenditure as a percentage of GDP\n",
    "  \n",
    ">The following questions would be analyzed in this project:\n",
    " 1.  Analyze the distributions of each entity.\n",
    " 2.  Which subregion on an average has the most and least Government/Private/Out of Pocket share of Health Spending % or the most and least Total Health Spending as a % of GDP?\n",
    " 3.  Are the entities correlated and if so how?\n",
    "  \n",
    "> The dataset 'Countries and Territories used by Gapminder' was downloaded from Gapminder to obtain the geographic subregions for the countries."
   ]
  },
  {
   "cell_type": "code",
   "execution_count": 9,
   "metadata": {
    "collapsed": true
   },
   "outputs": [],
   "source": [
    "# importing the libraries \n",
    "import pandas as pd\n",
    "import numpy as np\n",
    "import matplotlib.pyplot as plt\n",
    "import seaborn as sns\n",
    "%matplotlib inline"
   ]
  },
  {
   "cell_type": "markdown",
   "metadata": {},
   "source": [
    "<a id='wrangling'></a>\n",
    "## Data Wrangling\n",
    "\n",
    "\n",
    "### General Properties\n",
    "> Loading the datasets and examining them"
   ]
  },
  {
   "cell_type": "code",
   "execution_count": 10,
   "metadata": {
    "collapsed": true,
    "scrolled": true
   },
   "outputs": [],
   "source": [
    "# Loading data\n",
    "\n",
    "df_govt=pd.read_csv('government_share_of_total_health_spending_percent.csv')\n",
    "df_pvt=pd.read_csv('private_share_of_total_health_spending_percent.csv')\n",
    "df_oop=pd.read_csv('out_of_pocket_share_of_total_health_spending_percent.csv')\n",
    "df_tot=pd.read_csv('total_health_spending_percent_of_gdp.csv')\n",
    "\n"
   ]
  },
  {
   "cell_type": "code",
   "execution_count": 11,
   "metadata": {},
   "outputs": [
    {
     "name": "stdout",
     "output_type": "stream",
     "text": [
      "<class 'pandas.core.frame.DataFrame'>\n",
      "RangeIndex: 190 entries, 0 to 189\n",
      "Data columns (total 17 columns):\n",
      "geo     190 non-null object\n",
      "1995    187 non-null float64\n",
      "1996    188 non-null float64\n",
      "1997    188 non-null float64\n",
      "1998    189 non-null float64\n",
      "1999    189 non-null float64\n",
      "2000    189 non-null float64\n",
      "2001    189 non-null float64\n",
      "2002    188 non-null float64\n",
      "2003    188 non-null float64\n",
      "2004    188 non-null float64\n",
      "2005    188 non-null float64\n",
      "2006    188 non-null float64\n",
      "2007    188 non-null float64\n",
      "2008    188 non-null float64\n",
      "2009    188 non-null float64\n",
      "2010    185 non-null float64\n",
      "dtypes: float64(16), object(1)\n",
      "memory usage: 25.3+ KB\n",
      "None\n",
      "<class 'pandas.core.frame.DataFrame'>\n",
      "RangeIndex: 190 entries, 0 to 189\n",
      "Data columns (total 17 columns):\n",
      "geo     190 non-null object\n",
      "1995    187 non-null float64\n",
      "1996    188 non-null float64\n",
      "1997    188 non-null float64\n",
      "1998    189 non-null float64\n",
      "1999    189 non-null float64\n",
      "2000    189 non-null float64\n",
      "2001    189 non-null float64\n",
      "2002    188 non-null float64\n",
      "2003    188 non-null float64\n",
      "2004    188 non-null float64\n",
      "2005    188 non-null float64\n",
      "2006    188 non-null float64\n",
      "2007    188 non-null float64\n",
      "2008    188 non-null float64\n",
      "2009    188 non-null float64\n",
      "2010    185 non-null float64\n",
      "dtypes: float64(16), object(1)\n",
      "memory usage: 25.3+ KB\n",
      "None\n",
      "<class 'pandas.core.frame.DataFrame'>\n",
      "RangeIndex: 148 entries, 0 to 147\n",
      "Data columns (total 17 columns):\n",
      "geo     148 non-null object\n",
      "1995    145 non-null float64\n",
      "1996    146 non-null float64\n",
      "1997    146 non-null float64\n",
      "1998    147 non-null float64\n",
      "1999    147 non-null float64\n",
      "2000    147 non-null float64\n",
      "2001    147 non-null float64\n",
      "2002    146 non-null float64\n",
      "2003    146 non-null float64\n",
      "2004    146 non-null float64\n",
      "2005    146 non-null float64\n",
      "2006    146 non-null float64\n",
      "2007    146 non-null float64\n",
      "2008    146 non-null float64\n",
      "2009    146 non-null float64\n",
      "2010    146 non-null float64\n",
      "dtypes: float64(16), object(1)\n",
      "memory usage: 19.7+ KB\n",
      "None\n",
      "<class 'pandas.core.frame.DataFrame'>\n",
      "RangeIndex: 190 entries, 0 to 189\n",
      "Data columns (total 17 columns):\n",
      "geo     190 non-null object\n",
      "1995    187 non-null float64\n",
      "1996    188 non-null float64\n",
      "1997    188 non-null float64\n",
      "1998    189 non-null float64\n",
      "1999    189 non-null float64\n",
      "2000    189 non-null float64\n",
      "2001    189 non-null float64\n",
      "2002    188 non-null float64\n",
      "2003    188 non-null float64\n",
      "2004    188 non-null float64\n",
      "2005    188 non-null float64\n",
      "2006    188 non-null float64\n",
      "2007    188 non-null float64\n",
      "2008    188 non-null float64\n",
      "2009    188 non-null float64\n",
      "2010    185 non-null float64\n",
      "dtypes: float64(16), object(1)\n",
      "memory usage: 25.3+ KB\n",
      "None\n"
     ]
    }
   ],
   "source": [
    "# Retrieving info by looping through each dataframe\n",
    "\n",
    "for i in [df_govt, df_pvt,df_oop,df_tot]:\n",
    "    print(i.info())"
   ]
  },
  {
   "cell_type": "markdown",
   "metadata": {},
   "source": [
    "### Data Structure Adjustments\n",
    "\n",
    ">Combining data from the four datasets (Government,Private,Out of Pocket, Total) and further joining with the 'Countries and Territories' dataset so that they can be grouped by subregions later."
   ]
  },
  {
   "cell_type": "markdown",
   "metadata": {},
   "source": [
    ">Unpivoting each dataset so that all years from 1995-2010 appear in one column. Using 'melt' method in pandas."
   ]
  },
  {
   "cell_type": "code",
   "execution_count": 12,
   "metadata": {
    "collapsed": true
   },
   "outputs": [],
   "source": [
    "# Using melt in Pandas to unpivot each dataframe.\n",
    "\n",
    "val=['1995','1996','1997','1998','1999','2000','2001','2002','2003','2004','2005','2006','2007','2008','2009','2010']\n",
    "df_govt=pd.melt(df_govt,id_vars=['geo'],value_vars=val,var_name='year',value_name='govt')\n",
    "df_pvt=pd.melt(df_pvt,id_vars=['geo'],value_vars=val,var_name='year',value_name='pvt')\n",
    "df_oop=pd.melt(df_oop,id_vars=['geo'],value_vars=val,var_name='year',value_name='oop')\n",
    "df_tot=pd.melt(df_tot,id_vars=['geo'],value_vars=val,var_name='year',value_name='tot')\n"
   ]
  },
  {
   "cell_type": "code",
   "execution_count": 13,
   "metadata": {},
   "outputs": [
    {
     "name": "stdout",
     "output_type": "stream",
     "text": [
      "<class 'pandas.core.frame.DataFrame'>\n",
      "RangeIndex: 3040 entries, 0 to 3039\n",
      "Data columns (total 3 columns):\n",
      "geo     3040 non-null object\n",
      "year    3040 non-null object\n",
      "govt    3008 non-null float64\n",
      "dtypes: float64(1), object(2)\n",
      "memory usage: 71.3+ KB\n",
      "None\n",
      "<class 'pandas.core.frame.DataFrame'>\n",
      "RangeIndex: 3040 entries, 0 to 3039\n",
      "Data columns (total 3 columns):\n",
      "geo     3040 non-null object\n",
      "year    3040 non-null object\n",
      "pvt     3008 non-null float64\n",
      "dtypes: float64(1), object(2)\n",
      "memory usage: 71.3+ KB\n",
      "None\n",
      "<class 'pandas.core.frame.DataFrame'>\n",
      "RangeIndex: 2368 entries, 0 to 2367\n",
      "Data columns (total 3 columns):\n",
      "geo     2368 non-null object\n",
      "year    2368 non-null object\n",
      "oop     2339 non-null float64\n",
      "dtypes: float64(1), object(2)\n",
      "memory usage: 55.6+ KB\n",
      "None\n",
      "<class 'pandas.core.frame.DataFrame'>\n",
      "RangeIndex: 3040 entries, 0 to 3039\n",
      "Data columns (total 3 columns):\n",
      "geo     3040 non-null object\n",
      "year    3040 non-null object\n",
      "tot     3008 non-null float64\n",
      "dtypes: float64(1), object(2)\n",
      "memory usage: 71.3+ KB\n",
      "None\n"
     ]
    }
   ],
   "source": [
    "# Retrieving info by looping through each dataframe\n",
    "\n",
    "for i in [df_govt, df_pvt,df_oop,df_tot]:\n",
    "    print(i.info())"
   ]
  },
  {
   "cell_type": "markdown",
   "metadata": {},
   "source": [
    "> Setting the index for the dataframes to be a multi-index comprising of the Geo and Year so they can be joined"
   ]
  },
  {
   "cell_type": "code",
   "execution_count": 14,
   "metadata": {},
   "outputs": [
    {
     "name": "stdout",
     "output_type": "stream",
     "text": [
      "<class 'pandas.core.frame.DataFrame'>\n",
      "MultiIndex: 3040 entries, (Afghanistan, 1995) to (Zimbabwe, 2010)\n",
      "Data columns (total 1 columns):\n",
      "govt    3008 non-null float64\n",
      "dtypes: float64(1)\n",
      "memory usage: 34.4+ KB\n",
      "<class 'pandas.core.frame.DataFrame'>\n",
      "MultiIndex: 3040 entries, (Afghanistan, 1995) to (Zimbabwe, 2010)\n",
      "Data columns (total 1 columns):\n",
      "pvt    3008 non-null float64\n",
      "dtypes: float64(1)\n",
      "memory usage: 34.4+ KB\n",
      "<class 'pandas.core.frame.DataFrame'>\n",
      "MultiIndex: 2368 entries, (Afghanistan, 1995) to (Zimbabwe, 2010)\n",
      "Data columns (total 1 columns):\n",
      "oop    2339 non-null float64\n",
      "dtypes: float64(1)\n",
      "memory usage: 26.8+ KB\n",
      "<class 'pandas.core.frame.DataFrame'>\n",
      "MultiIndex: 3040 entries, (Afghanistan, 1995) to (Zimbabwe, 2010)\n",
      "Data columns (total 1 columns):\n",
      "tot    3008 non-null float64\n",
      "dtypes: float64(1)\n",
      "memory usage: 34.4+ KB\n"
     ]
    }
   ],
   "source": [
    "# Setting index as a multi-index comprising of Geo and Year\n",
    "\n",
    "for i in [df_govt,df_pvt,df_oop,df_tot]:\n",
    "    i.set_index(['geo','year'],inplace=True)\n",
    "    i.info()"
   ]
  },
  {
   "cell_type": "markdown",
   "metadata": {},
   "source": [
    ">Joining the 4 datasets using inner join. Out_of_pocket_share_data has data only for 148 countries. We need to analyze only for these countries that exist in the remaining datasets."
   ]
  },
  {
   "cell_type": "code",
   "execution_count": 15,
   "metadata": {},
   "outputs": [
    {
     "name": "stdout",
     "output_type": "stream",
     "text": [
      "<class 'pandas.core.frame.DataFrame'>\n",
      "MultiIndex: 2368 entries, (Afghanistan, 1995) to (Zimbabwe, 2010)\n",
      "Data columns (total 4 columns):\n",
      "govt    2339 non-null float64\n",
      "pvt     2339 non-null float64\n",
      "oop     2339 non-null float64\n",
      "tot     2339 non-null float64\n",
      "dtypes: float64(4)\n",
      "memory usage: 82.3+ KB\n"
     ]
    }
   ],
   "source": [
    "# Joining the dataframes on the index using Inner Join\n",
    "\n",
    "df_joined=df_govt.join([df_pvt,df_oop,df_tot],how='inner')\n",
    "df_joined.info()"
   ]
  },
  {
   "cell_type": "markdown",
   "metadata": {},
   "source": [
    ">Resetting the index using Pandas reset_index so the dataset has 'geo' and 'year' as columns"
   ]
  },
  {
   "cell_type": "code",
   "execution_count": 16,
   "metadata": {},
   "outputs": [
    {
     "name": "stdout",
     "output_type": "stream",
     "text": [
      "<class 'pandas.core.frame.DataFrame'>\n",
      "RangeIndex: 2368 entries, 0 to 2367\n",
      "Data columns (total 6 columns):\n",
      "geo     2368 non-null object\n",
      "year    2368 non-null object\n",
      "govt    2339 non-null float64\n",
      "pvt     2339 non-null float64\n",
      "oop     2339 non-null float64\n",
      "tot     2339 non-null float64\n",
      "dtypes: float64(4), object(2)\n",
      "memory usage: 111.1+ KB\n"
     ]
    }
   ],
   "source": [
    "# Resetting the index\n",
    "\n",
    "df_joined.reset_index(inplace=True)\n",
    "df_joined.info()"
   ]
  },
  {
   "cell_type": "markdown",
   "metadata": {},
   "source": [
    ">Importing 'Countries and Territories used by Gapminder' dataset. Joined the datasets to obtain the matching regions."
   ]
  },
  {
   "cell_type": "code",
   "execution_count": 17,
   "metadata": {},
   "outputs": [
    {
     "name": "stdout",
     "output_type": "stream",
     "text": [
      "<class 'pandas.core.frame.DataFrame'>\n",
      "Int64Index: 2368 entries, 0 to 2367\n",
      "Data columns (total 17 columns):\n",
      "geo_x                           2368 non-null object\n",
      "year                            2368 non-null object\n",
      "govt                            2339 non-null float64\n",
      "pvt                             2339 non-null float64\n",
      "oop                             2339 non-null float64\n",
      "tot                             2339 non-null float64\n",
      "geo_y                           2368 non-null object\n",
      "name                            2368 non-null object\n",
      "Gapminder's 4 world regions     2368 non-null object\n",
      "Gapminder's 8 subregions        2368 non-null object\n",
      "Gapminder's 6 world regions     2368 non-null object\n",
      "Members of G77 or OECD          2368 non-null object\n",
      "Latitude                        2368 non-null float64\n",
      "Longitude                       2368 non-null float64\n",
      "UN member sinces                2368 non-null object\n",
      "World bank region               2368 non-null object\n",
      "World bank income group 2017    2368 non-null object\n",
      "dtypes: float64(6), object(11)\n",
      "memory usage: 333.0+ KB\n"
     ]
    }
   ],
   "source": [
    "# Reading 'Countries and Territories' dataset and merging with df_joined using inner join on country names.\n",
    "\n",
    "df_region=pd.read_csv('Countries and territories used by Gapminder.csv')\n",
    "df_region.head()\n",
    "df_final=df_joined.merge(df_region, how = 'inner', left_on='geo',right_on='name')\n",
    "df_final.info()"
   ]
  },
  {
   "cell_type": "code",
   "execution_count": 18,
   "metadata": {},
   "outputs": [
    {
     "data": {
      "text/html": [
       "<div>\n",
       "<style scoped>\n",
       "    .dataframe tbody tr th:only-of-type {\n",
       "        vertical-align: middle;\n",
       "    }\n",
       "\n",
       "    .dataframe tbody tr th {\n",
       "        vertical-align: top;\n",
       "    }\n",
       "\n",
       "    .dataframe thead th {\n",
       "        text-align: right;\n",
       "    }\n",
       "</style>\n",
       "<table border=\"1\" class=\"dataframe\">\n",
       "  <thead>\n",
       "    <tr style=\"text-align: right;\">\n",
       "      <th></th>\n",
       "      <th>geo</th>\n",
       "      <th>year</th>\n",
       "      <th>govt</th>\n",
       "      <th>pvt</th>\n",
       "      <th>oop</th>\n",
       "      <th>tot</th>\n",
       "      <th>4region</th>\n",
       "      <th>subregion</th>\n",
       "      <th>6region</th>\n",
       "    </tr>\n",
       "  </thead>\n",
       "  <tbody>\n",
       "    <tr>\n",
       "      <th>0</th>\n",
       "      <td>Afghanistan</td>\n",
       "      <td>1995</td>\n",
       "      <td>NaN</td>\n",
       "      <td>NaN</td>\n",
       "      <td>NaN</td>\n",
       "      <td>NaN</td>\n",
       "      <td>asia</td>\n",
       "      <td>asia_west</td>\n",
       "      <td>south_asia</td>\n",
       "    </tr>\n",
       "    <tr>\n",
       "      <th>1</th>\n",
       "      <td>Afghanistan</td>\n",
       "      <td>1996</td>\n",
       "      <td>NaN</td>\n",
       "      <td>NaN</td>\n",
       "      <td>NaN</td>\n",
       "      <td>NaN</td>\n",
       "      <td>asia</td>\n",
       "      <td>asia_west</td>\n",
       "      <td>south_asia</td>\n",
       "    </tr>\n",
       "    <tr>\n",
       "      <th>2</th>\n",
       "      <td>Afghanistan</td>\n",
       "      <td>1997</td>\n",
       "      <td>NaN</td>\n",
       "      <td>NaN</td>\n",
       "      <td>NaN</td>\n",
       "      <td>NaN</td>\n",
       "      <td>asia</td>\n",
       "      <td>asia_west</td>\n",
       "      <td>south_asia</td>\n",
       "    </tr>\n",
       "    <tr>\n",
       "      <th>3</th>\n",
       "      <td>Afghanistan</td>\n",
       "      <td>1998</td>\n",
       "      <td>NaN</td>\n",
       "      <td>NaN</td>\n",
       "      <td>NaN</td>\n",
       "      <td>NaN</td>\n",
       "      <td>asia</td>\n",
       "      <td>asia_west</td>\n",
       "      <td>south_asia</td>\n",
       "    </tr>\n",
       "    <tr>\n",
       "      <th>4</th>\n",
       "      <td>Afghanistan</td>\n",
       "      <td>1999</td>\n",
       "      <td>NaN</td>\n",
       "      <td>NaN</td>\n",
       "      <td>NaN</td>\n",
       "      <td>NaN</td>\n",
       "      <td>asia</td>\n",
       "      <td>asia_west</td>\n",
       "      <td>south_asia</td>\n",
       "    </tr>\n",
       "  </tbody>\n",
       "</table>\n",
       "</div>"
      ],
      "text/plain": [
       "           geo  year  govt  pvt  oop  tot 4region  subregion     6region\n",
       "0  Afghanistan  1995   NaN  NaN  NaN  NaN    asia  asia_west  south_asia\n",
       "1  Afghanistan  1996   NaN  NaN  NaN  NaN    asia  asia_west  south_asia\n",
       "2  Afghanistan  1997   NaN  NaN  NaN  NaN    asia  asia_west  south_asia\n",
       "3  Afghanistan  1998   NaN  NaN  NaN  NaN    asia  asia_west  south_asia\n",
       "4  Afghanistan  1999   NaN  NaN  NaN  NaN    asia  asia_west  south_asia"
      ]
     },
     "execution_count": 18,
     "metadata": {},
     "output_type": "execute_result"
    }
   ],
   "source": [
    "# Dropping extranneous columns and renaming columns\n",
    "\n",
    "df_final.drop(['geo_y','name','Members of G77 or OECD', 'Latitude','Longitude','World bank region','World bank income group 2017','UN member sinces'], axis=1,inplace=True)\n",
    "df_final.rename(columns={'geo_x':'geo','Gapminder\\'s 4 world regions':'4region','Gapminder\\'s 6 world regions':'6region','Gapminder\\'s 8 subregions':'subregion'},inplace=True)\n",
    "df_final.head()"
   ]
  },
  {
   "cell_type": "code",
   "execution_count": 19,
   "metadata": {},
   "outputs": [
    {
     "name": "stdout",
     "output_type": "stream",
     "text": [
      "<class 'pandas.core.frame.DataFrame'>\n",
      "Int64Index: 2368 entries, 0 to 2367\n",
      "Data columns (total 9 columns):\n",
      "geo          2368 non-null object\n",
      "year         2368 non-null object\n",
      "govt         2339 non-null float64\n",
      "pvt          2339 non-null float64\n",
      "oop          2339 non-null float64\n",
      "tot          2339 non-null float64\n",
      "4region      2368 non-null object\n",
      "subregion    2368 non-null object\n",
      "6region      2368 non-null object\n",
      "dtypes: float64(4), object(5)\n",
      "memory usage: 185.0+ KB\n"
     ]
    }
   ],
   "source": [
    "df_final.info()"
   ]
  },
  {
   "cell_type": "markdown",
   "metadata": {},
   "source": [
    "\n",
    "### Data Cleaning "
   ]
  },
  {
   "cell_type": "markdown",
   "metadata": {
    "collapsed": true
   },
   "source": [
    "> Checking for Null values, duplicates and cleaning data\n"
   ]
  },
  {
   "cell_type": "code",
   "execution_count": 20,
   "metadata": {},
   "outputs": [
    {
     "data": {
      "text/plain": [
       "geo           0\n",
       "year          0\n",
       "govt         29\n",
       "pvt          29\n",
       "oop          29\n",
       "tot          29\n",
       "4region       0\n",
       "subregion     0\n",
       "6region       0\n",
       "dtype: int64"
      ]
     },
     "execution_count": 20,
     "metadata": {},
     "output_type": "execute_result"
    }
   ],
   "source": [
    "# Checking for Null\n",
    "\n",
    "df_final.isnull().sum()"
   ]
  },
  {
   "cell_type": "markdown",
   "metadata": {},
   "source": [
    ">Dropping null values"
   ]
  },
  {
   "cell_type": "code",
   "execution_count": 21,
   "metadata": {},
   "outputs": [
    {
     "data": {
      "text/plain": [
       "geo          0\n",
       "year         0\n",
       "govt         0\n",
       "pvt          0\n",
       "oop          0\n",
       "tot          0\n",
       "4region      0\n",
       "subregion    0\n",
       "6region      0\n",
       "dtype: int64"
      ]
     },
     "execution_count": 21,
     "metadata": {},
     "output_type": "execute_result"
    }
   ],
   "source": [
    "# Dropping Null values\n",
    "\n",
    "df_final.dropna(axis=0,how='any',inplace=True)\n",
    "df_final.isnull().sum()"
   ]
  },
  {
   "cell_type": "code",
   "execution_count": 22,
   "metadata": {},
   "outputs": [
    {
     "name": "stdout",
     "output_type": "stream",
     "text": [
      "<class 'pandas.core.frame.DataFrame'>\n",
      "Int64Index: 2339 entries, 7 to 2358\n",
      "Data columns (total 9 columns):\n",
      "geo          2339 non-null object\n",
      "year         2339 non-null object\n",
      "govt         2339 non-null float64\n",
      "pvt          2339 non-null float64\n",
      "oop          2339 non-null float64\n",
      "tot          2339 non-null float64\n",
      "4region      2339 non-null object\n",
      "subregion    2339 non-null object\n",
      "6region      2339 non-null object\n",
      "dtypes: float64(4), object(5)\n",
      "memory usage: 182.7+ KB\n"
     ]
    }
   ],
   "source": [
    "df_final.info()"
   ]
  },
  {
   "cell_type": "markdown",
   "metadata": {},
   "source": [
    ">Noticed that after dropping null values, the index isn't serial starting from 0. Reseting the index to start from 0."
   ]
  },
  {
   "cell_type": "code",
   "execution_count": 23,
   "metadata": {
    "collapsed": true
   },
   "outputs": [],
   "source": [
    "# Resetting index\n",
    "\n",
    "df_final.reset_index(inplace=True,drop=True)"
   ]
  },
  {
   "cell_type": "code",
   "execution_count": 24,
   "metadata": {},
   "outputs": [
    {
     "name": "stdout",
     "output_type": "stream",
     "text": [
      "<class 'pandas.core.frame.DataFrame'>\n",
      "RangeIndex: 2339 entries, 0 to 2338\n",
      "Data columns (total 9 columns):\n",
      "geo          2339 non-null object\n",
      "year         2339 non-null object\n",
      "govt         2339 non-null float64\n",
      "pvt          2339 non-null float64\n",
      "oop          2339 non-null float64\n",
      "tot          2339 non-null float64\n",
      "4region      2339 non-null object\n",
      "subregion    2339 non-null object\n",
      "6region      2339 non-null object\n",
      "dtypes: float64(4), object(5)\n",
      "memory usage: 164.5+ KB\n"
     ]
    }
   ],
   "source": [
    "df_final.info()"
   ]
  },
  {
   "cell_type": "markdown",
   "metadata": {},
   "source": [
    ">Checking for duplicates"
   ]
  },
  {
   "cell_type": "code",
   "execution_count": 25,
   "metadata": {},
   "outputs": [
    {
     "data": {
      "text/plain": [
       "0"
      ]
     },
     "execution_count": 25,
     "metadata": {},
     "output_type": "execute_result"
    }
   ],
   "source": [
    "# Checking for duplicates\n",
    "\n",
    "df_final.duplicated().sum()"
   ]
  },
  {
   "cell_type": "code",
   "execution_count": 26,
   "metadata": {},
   "outputs": [
    {
     "name": "stdout",
     "output_type": "stream",
     "text": [
      "<class 'pandas.core.frame.DataFrame'>\n",
      "RangeIndex: 2339 entries, 0 to 2338\n",
      "Data columns (total 9 columns):\n",
      "geo          2339 non-null object\n",
      "year         2339 non-null object\n",
      "govt         2339 non-null float64\n",
      "pvt          2339 non-null float64\n",
      "oop          2339 non-null float64\n",
      "tot          2339 non-null float64\n",
      "4region      2339 non-null object\n",
      "subregion    2339 non-null object\n",
      "6region      2339 non-null object\n",
      "dtypes: float64(4), object(5)\n",
      "memory usage: 164.5+ KB\n"
     ]
    }
   ],
   "source": [
    "df_final.info()"
   ]
  },
  {
   "cell_type": "code",
   "execution_count": 27,
   "metadata": {},
   "outputs": [
    {
     "data": {
      "text/html": [
       "<div>\n",
       "<style scoped>\n",
       "    .dataframe tbody tr th:only-of-type {\n",
       "        vertical-align: middle;\n",
       "    }\n",
       "\n",
       "    .dataframe tbody tr th {\n",
       "        vertical-align: top;\n",
       "    }\n",
       "\n",
       "    .dataframe thead th {\n",
       "        text-align: right;\n",
       "    }\n",
       "</style>\n",
       "<table border=\"1\" class=\"dataframe\">\n",
       "  <thead>\n",
       "    <tr style=\"text-align: right;\">\n",
       "      <th></th>\n",
       "      <th>geo</th>\n",
       "      <th>year</th>\n",
       "      <th>govt</th>\n",
       "      <th>pvt</th>\n",
       "      <th>oop</th>\n",
       "      <th>tot</th>\n",
       "      <th>4region</th>\n",
       "      <th>subregion</th>\n",
       "      <th>6region</th>\n",
       "    </tr>\n",
       "  </thead>\n",
       "  <tbody>\n",
       "    <tr>\n",
       "      <th>0</th>\n",
       "      <td>Afghanistan</td>\n",
       "      <td>2002</td>\n",
       "      <td>5.62</td>\n",
       "      <td>94.4</td>\n",
       "      <td>88.7</td>\n",
       "      <td>5.72</td>\n",
       "      <td>asia</td>\n",
       "      <td>asia_west</td>\n",
       "      <td>south_asia</td>\n",
       "    </tr>\n",
       "    <tr>\n",
       "      <th>1</th>\n",
       "      <td>Afghanistan</td>\n",
       "      <td>2003</td>\n",
       "      <td>6.83</td>\n",
       "      <td>93.2</td>\n",
       "      <td>87.6</td>\n",
       "      <td>6.82</td>\n",
       "      <td>asia</td>\n",
       "      <td>asia_west</td>\n",
       "      <td>south_asia</td>\n",
       "    </tr>\n",
       "    <tr>\n",
       "      <th>2</th>\n",
       "      <td>Afghanistan</td>\n",
       "      <td>2004</td>\n",
       "      <td>7.81</td>\n",
       "      <td>92.2</td>\n",
       "      <td>86.6</td>\n",
       "      <td>6.36</td>\n",
       "      <td>asia</td>\n",
       "      <td>asia_west</td>\n",
       "      <td>south_asia</td>\n",
       "    </tr>\n",
       "    <tr>\n",
       "      <th>3</th>\n",
       "      <td>Afghanistan</td>\n",
       "      <td>2005</td>\n",
       "      <td>11.60</td>\n",
       "      <td>88.5</td>\n",
       "      <td>83.1</td>\n",
       "      <td>6.63</td>\n",
       "      <td>asia</td>\n",
       "      <td>asia_west</td>\n",
       "      <td>south_asia</td>\n",
       "    </tr>\n",
       "    <tr>\n",
       "      <th>4</th>\n",
       "      <td>Afghanistan</td>\n",
       "      <td>2006</td>\n",
       "      <td>11.80</td>\n",
       "      <td>88.2</td>\n",
       "      <td>82.9</td>\n",
       "      <td>6.77</td>\n",
       "      <td>asia</td>\n",
       "      <td>asia_west</td>\n",
       "      <td>south_asia</td>\n",
       "    </tr>\n",
       "  </tbody>\n",
       "</table>\n",
       "</div>"
      ],
      "text/plain": [
       "           geo  year   govt   pvt   oop   tot 4region  subregion     6region\n",
       "0  Afghanistan  2002   5.62  94.4  88.7  5.72    asia  asia_west  south_asia\n",
       "1  Afghanistan  2003   6.83  93.2  87.6  6.82    asia  asia_west  south_asia\n",
       "2  Afghanistan  2004   7.81  92.2  86.6  6.36    asia  asia_west  south_asia\n",
       "3  Afghanistan  2005  11.60  88.5  83.1  6.63    asia  asia_west  south_asia\n",
       "4  Afghanistan  2006  11.80  88.2  82.9  6.77    asia  asia_west  south_asia"
      ]
     },
     "execution_count": 27,
     "metadata": {},
     "output_type": "execute_result"
    }
   ],
   "source": [
    "df_final.head()"
   ]
  },
  {
   "cell_type": "markdown",
   "metadata": {},
   "source": [
    "<a id='eda'></a>\n",
    "## Exploratory Data Analysis\n",
    "\n",
    "\n",
    "\n",
    "### Research Question 1 - Analyze the distributions of each entity"
   ]
  },
  {
   "cell_type": "markdown",
   "metadata": {
    "collapsed": true
   },
   "source": [
    "\n",
    ">Abbreviation used below:\n",
    "    * Govt Share of Total Health Spending - Govt\n",
    "    * Private Share of Total Health Spending - Pvt\n",
    "    * Out of Pocket Share of Total Health Spending - Oop\n",
    "\t* Total Health Spending Percent of GDP - tot\n",
    "    \n"
   ]
  },
  {
   "cell_type": "markdown",
   "metadata": {},
   "source": [
    ">Brief statistics for Govt, Pvt, Oop and tot across all countries and years"
   ]
  },
  {
   "cell_type": "code",
   "execution_count": 28,
   "metadata": {},
   "outputs": [
    {
     "data": {
      "text/html": [
       "<div>\n",
       "<style scoped>\n",
       "    .dataframe tbody tr th:only-of-type {\n",
       "        vertical-align: middle;\n",
       "    }\n",
       "\n",
       "    .dataframe tbody tr th {\n",
       "        vertical-align: top;\n",
       "    }\n",
       "\n",
       "    .dataframe thead th {\n",
       "        text-align: right;\n",
       "    }\n",
       "</style>\n",
       "<table border=\"1\" class=\"dataframe\">\n",
       "  <thead>\n",
       "    <tr style=\"text-align: right;\">\n",
       "      <th></th>\n",
       "      <th>govt</th>\n",
       "      <th>pvt</th>\n",
       "      <th>oop</th>\n",
       "      <th>tot</th>\n",
       "    </tr>\n",
       "  </thead>\n",
       "  <tbody>\n",
       "    <tr>\n",
       "      <th>count</th>\n",
       "      <td>2339.000000</td>\n",
       "      <td>2339.000000</td>\n",
       "      <td>2339.000000</td>\n",
       "      <td>2339.000000</td>\n",
       "    </tr>\n",
       "    <tr>\n",
       "      <th>mean</th>\n",
       "      <td>56.186003</td>\n",
       "      <td>43.787307</td>\n",
       "      <td>35.116375</td>\n",
       "      <td>6.221496</td>\n",
       "    </tr>\n",
       "    <tr>\n",
       "      <th>std</th>\n",
       "      <td>21.069566</td>\n",
       "      <td>21.094486</td>\n",
       "      <td>20.896900</td>\n",
       "      <td>2.870724</td>\n",
       "    </tr>\n",
       "    <tr>\n",
       "      <th>min</th>\n",
       "      <td>0.390000</td>\n",
       "      <td>4.130000</td>\n",
       "      <td>2.210000</td>\n",
       "      <td>1.120000</td>\n",
       "    </tr>\n",
       "    <tr>\n",
       "      <th>25%</th>\n",
       "      <td>40.450000</td>\n",
       "      <td>26.050000</td>\n",
       "      <td>16.850000</td>\n",
       "      <td>4.145000</td>\n",
       "    </tr>\n",
       "    <tr>\n",
       "      <th>50%</th>\n",
       "      <td>58.100000</td>\n",
       "      <td>41.900000</td>\n",
       "      <td>30.800000</td>\n",
       "      <td>5.650000</td>\n",
       "    </tr>\n",
       "    <tr>\n",
       "      <th>75%</th>\n",
       "      <td>74.000000</td>\n",
       "      <td>59.550000</td>\n",
       "      <td>50.900000</td>\n",
       "      <td>7.840000</td>\n",
       "    </tr>\n",
       "    <tr>\n",
       "      <th>max</th>\n",
       "      <td>95.900000</td>\n",
       "      <td>99.600000</td>\n",
       "      <td>99.600000</td>\n",
       "      <td>22.900000</td>\n",
       "    </tr>\n",
       "  </tbody>\n",
       "</table>\n",
       "</div>"
      ],
      "text/plain": [
       "              govt          pvt          oop          tot\n",
       "count  2339.000000  2339.000000  2339.000000  2339.000000\n",
       "mean     56.186003    43.787307    35.116375     6.221496\n",
       "std      21.069566    21.094486    20.896900     2.870724\n",
       "min       0.390000     4.130000     2.210000     1.120000\n",
       "25%      40.450000    26.050000    16.850000     4.145000\n",
       "50%      58.100000    41.900000    30.800000     5.650000\n",
       "75%      74.000000    59.550000    50.900000     7.840000\n",
       "max      95.900000    99.600000    99.600000    22.900000"
      ]
     },
     "execution_count": 28,
     "metadata": {},
     "output_type": "execute_result"
    }
   ],
   "source": [
    "# Obtaining general statistics of the dataframe\n",
    "\n",
    "df_final.describe()"
   ]
  },
  {
   "cell_type": "markdown",
   "metadata": {},
   "source": [
    "> Grouping the data in the dataframe by subregion and determining the mean of values for govt, pvt, oop and tot. Finding the basic statistics across subregions and years"
   ]
  },
  {
   "cell_type": "code",
   "execution_count": 29,
   "metadata": {},
   "outputs": [
    {
     "data": {
      "text/html": [
       "<div>\n",
       "<style scoped>\n",
       "    .dataframe tbody tr th:only-of-type {\n",
       "        vertical-align: middle;\n",
       "    }\n",
       "\n",
       "    .dataframe tbody tr th {\n",
       "        vertical-align: top;\n",
       "    }\n",
       "\n",
       "    .dataframe thead th {\n",
       "        text-align: right;\n",
       "    }\n",
       "</style>\n",
       "<table border=\"1\" class=\"dataframe\">\n",
       "  <thead>\n",
       "    <tr style=\"text-align: right;\">\n",
       "      <th></th>\n",
       "      <th>subregion</th>\n",
       "      <th>govt</th>\n",
       "      <th>pvt</th>\n",
       "      <th>oop</th>\n",
       "      <th>tot</th>\n",
       "    </tr>\n",
       "  </thead>\n",
       "  <tbody>\n",
       "    <tr>\n",
       "      <th>0</th>\n",
       "      <td>africa_north</td>\n",
       "      <td>54.360417</td>\n",
       "      <td>45.639583</td>\n",
       "      <td>41.647917</td>\n",
       "      <td>4.847813</td>\n",
       "    </tr>\n",
       "    <tr>\n",
       "      <th>1</th>\n",
       "      <td>africa_sub_saharan</td>\n",
       "      <td>46.069261</td>\n",
       "      <td>53.931560</td>\n",
       "      <td>41.846621</td>\n",
       "      <td>5.492244</td>\n",
       "    </tr>\n",
       "    <tr>\n",
       "      <th>2</th>\n",
       "      <td>america_north</td>\n",
       "      <td>56.754687</td>\n",
       "      <td>43.248438</td>\n",
       "      <td>20.946875</td>\n",
       "      <td>9.102812</td>\n",
       "    </tr>\n",
       "    <tr>\n",
       "      <th>3</th>\n",
       "      <td>america_south</td>\n",
       "      <td>56.287500</td>\n",
       "      <td>43.712500</td>\n",
       "      <td>28.037500</td>\n",
       "      <td>8.598125</td>\n",
       "    </tr>\n",
       "    <tr>\n",
       "      <th>4</th>\n",
       "      <td>asia_west</td>\n",
       "      <td>51.553529</td>\n",
       "      <td>48.450000</td>\n",
       "      <td>42.440931</td>\n",
       "      <td>4.805466</td>\n",
       "    </tr>\n",
       "    <tr>\n",
       "      <th>5</th>\n",
       "      <td>east_asia_pacific</td>\n",
       "      <td>63.717083</td>\n",
       "      <td>36.284560</td>\n",
       "      <td>28.005347</td>\n",
       "      <td>6.378287</td>\n",
       "    </tr>\n",
       "    <tr>\n",
       "      <th>6</th>\n",
       "      <td>europe_east</td>\n",
       "      <td>58.107022</td>\n",
       "      <td>41.893934</td>\n",
       "      <td>37.089743</td>\n",
       "      <td>7.070404</td>\n",
       "    </tr>\n",
       "    <tr>\n",
       "      <th>7</th>\n",
       "      <td>europe_west</td>\n",
       "      <td>73.831875</td>\n",
       "      <td>25.963000</td>\n",
       "      <td>19.554062</td>\n",
       "      <td>8.476594</td>\n",
       "    </tr>\n",
       "  </tbody>\n",
       "</table>\n",
       "</div>"
      ],
      "text/plain": [
       "            subregion       govt        pvt        oop       tot\n",
       "0        africa_north  54.360417  45.639583  41.647917  4.847813\n",
       "1  africa_sub_saharan  46.069261  53.931560  41.846621  5.492244\n",
       "2       america_north  56.754687  43.248438  20.946875  9.102812\n",
       "3       america_south  56.287500  43.712500  28.037500  8.598125\n",
       "4           asia_west  51.553529  48.450000  42.440931  4.805466\n",
       "5   east_asia_pacific  63.717083  36.284560  28.005347  6.378287\n",
       "6         europe_east  58.107022  41.893934  37.089743  7.070404\n",
       "7         europe_west  73.831875  25.963000  19.554062  8.476594"
      ]
     },
     "execution_count": 29,
     "metadata": {},
     "output_type": "execute_result"
    }
   ],
   "source": [
    "# Grouping the data by subregion and obtaining mean of the entities. \n",
    "\n",
    "df_avgyear=df_final.groupby('subregion')['govt','pvt','oop','tot'].mean() \n",
    "df_avgyear.reset_index(inplace=True)\n",
    "df_avgyear"
   ]
  },
  {
   "cell_type": "code",
   "execution_count": 30,
   "metadata": {},
   "outputs": [
    {
     "data": {
      "text/html": [
       "<div>\n",
       "<style scoped>\n",
       "    .dataframe tbody tr th:only-of-type {\n",
       "        vertical-align: middle;\n",
       "    }\n",
       "\n",
       "    .dataframe tbody tr th {\n",
       "        vertical-align: top;\n",
       "    }\n",
       "\n",
       "    .dataframe thead th {\n",
       "        text-align: right;\n",
       "    }\n",
       "</style>\n",
       "<table border=\"1\" class=\"dataframe\">\n",
       "  <thead>\n",
       "    <tr style=\"text-align: right;\">\n",
       "      <th></th>\n",
       "      <th>govt</th>\n",
       "      <th>pvt</th>\n",
       "      <th>oop</th>\n",
       "      <th>tot</th>\n",
       "    </tr>\n",
       "  </thead>\n",
       "  <tbody>\n",
       "    <tr>\n",
       "      <th>count</th>\n",
       "      <td>8.000000</td>\n",
       "      <td>8.000000</td>\n",
       "      <td>8.000000</td>\n",
       "      <td>8.000000</td>\n",
       "    </tr>\n",
       "    <tr>\n",
       "      <th>mean</th>\n",
       "      <td>57.585172</td>\n",
       "      <td>42.390447</td>\n",
       "      <td>32.446125</td>\n",
       "      <td>6.846468</td>\n",
       "    </tr>\n",
       "    <tr>\n",
       "      <th>std</th>\n",
       "      <td>8.311761</td>\n",
       "      <td>8.369551</td>\n",
       "      <td>9.502602</td>\n",
       "      <td>1.735358</td>\n",
       "    </tr>\n",
       "    <tr>\n",
       "      <th>min</th>\n",
       "      <td>46.069261</td>\n",
       "      <td>25.963000</td>\n",
       "      <td>19.554062</td>\n",
       "      <td>4.805466</td>\n",
       "    </tr>\n",
       "    <tr>\n",
       "      <th>25%</th>\n",
       "      <td>53.658695</td>\n",
       "      <td>40.491590</td>\n",
       "      <td>26.240729</td>\n",
       "      <td>5.331136</td>\n",
       "    </tr>\n",
       "    <tr>\n",
       "      <th>50%</th>\n",
       "      <td>56.521094</td>\n",
       "      <td>43.480469</td>\n",
       "      <td>32.563621</td>\n",
       "      <td>6.724346</td>\n",
       "    </tr>\n",
       "    <tr>\n",
       "      <th>75%</th>\n",
       "      <td>59.509537</td>\n",
       "      <td>46.342188</td>\n",
       "      <td>41.697593</td>\n",
       "      <td>8.506977</td>\n",
       "    </tr>\n",
       "    <tr>\n",
       "      <th>max</th>\n",
       "      <td>73.831875</td>\n",
       "      <td>53.931560</td>\n",
       "      <td>42.440931</td>\n",
       "      <td>9.102812</td>\n",
       "    </tr>\n",
       "  </tbody>\n",
       "</table>\n",
       "</div>"
      ],
      "text/plain": [
       "            govt        pvt        oop       tot\n",
       "count   8.000000   8.000000   8.000000  8.000000\n",
       "mean   57.585172  42.390447  32.446125  6.846468\n",
       "std     8.311761   8.369551   9.502602  1.735358\n",
       "min    46.069261  25.963000  19.554062  4.805466\n",
       "25%    53.658695  40.491590  26.240729  5.331136\n",
       "50%    56.521094  43.480469  32.563621  6.724346\n",
       "75%    59.509537  46.342188  41.697593  8.506977\n",
       "max    73.831875  53.931560  42.440931  9.102812"
      ]
     },
     "execution_count": 30,
     "metadata": {},
     "output_type": "execute_result"
    }
   ],
   "source": [
    "# Obtaining general statistics after grouping\n",
    "\n",
    "df_avgyear.describe()"
   ]
  },
  {
   "cell_type": "markdown",
   "metadata": {},
   "source": [
    ">Distribution for each of the four features"
   ]
  },
  {
   "cell_type": "code",
   "execution_count": 31,
   "metadata": {},
   "outputs": [
    {
     "data": {
      "image/png": "[encoded data removed]",
      "text/plain": [
       "<matplotlib.figure.Figure at 0x3af3ec73c8>"
      ]
     },
     "metadata": {},
     "output_type": "display_data"
    },
    {
     "data": {
      "image/png": "[encoded data removed]",
      "text/plain": [
       "<matplotlib.figure.Figure at 0x3af3b02ef0>"
      ]
     },
     "metadata": {},
     "output_type": "display_data"
    },
    {
     "data": {
      "image/png": "[encoded data removed]",
      "text/plain": [
       "<matplotlib.figure.Figure at 0x3af4195eb8>"
      ]
     },
     "metadata": {},
     "output_type": "display_data"
    },
    {
     "data": {
      "image/png": "[encoded data removed]",
      "text/plain": [
       "<matplotlib.figure.Figure at 0x3af4378898>"
      ]
     },
     "metadata": {},
     "output_type": "display_data"
    }
   ],
   "source": [
    "# Plotting histograms for each entity using matplotlib and seaborn\n",
    "\n",
    "for i in ['govt', 'pvt','oop','tot']:\n",
    "    sns.set_style('darkgrid')\n",
    "    plt.hist(df_avgyear[i],bins=3)\n",
    "    plt.xlabel(i)\n",
    "    plt.ylabel('Number of subregions')\n",
    "    plt.title('Frequency distribution of {}'.format(i))\n",
    "    plt.show()"
   ]
  },
  {
   "cell_type": "markdown",
   "metadata": {},
   "source": [
    ">Inference from the distributions- \n",
    "   * The distribution for Government Share of Total Health Spending is a random distibution skewed to the right. For majority of subregions in the world, the Government Share of Total Health Spending is between 55-65%\n",
    "   * The distribution for Private Share of Total Health Spending is a random distribution skewed to the left. For majority of subregions in the world, the Private Share of Total Health Spending is between 35%-45%\n",
    "   * The distribution for Out of Pocket Share of Total Health Spending is a Skewed left distribution. For majority of subregions in the world, the Out of Pocket Share of Total Health Spending is between 35%-42%\n",
    "   * The distribution for Total Health Spending as a % of GDP is a bimodal distribution. 3 of 8 subregions have a Total Heath Spending as a % of GDP between 5%-6% and 3 of 8 subregions have a Total Health Spending as a % of GDP between 7.8%-9%."
   ]
  },
  {
   "cell_type": "markdown",
   "metadata": {},
   "source": [
    "### Research Question 2 - Which subregion on an average has the most and least Government/Private/Out of Pocket share of Health Spending % or the most and least Total Health Spending as a % of GDP"
   ]
  },
  {
   "cell_type": "code",
   "execution_count": 32,
   "metadata": {},
   "outputs": [
    {
     "name": "stdout",
     "output_type": "stream",
     "text": [
      "The region with maximum govt is ['europe_west'] with a percentage of 73.831875\n",
      "The region with minimum govt is ['africa_sub_saharan'] with a percentage of 46.06926128590971\n",
      "The region with maximum pvt is ['africa_sub_saharan'] with a percentage of 53.93155950752388\n",
      "The region with minimum pvt is ['europe_west'] with a percentage of 25.962999999999994\n",
      "The region with maximum oop is ['asia_west'] with a percentage of 42.44093137254897\n",
      "The region with minimum oop is ['europe_west'] with a percentage of 19.55406249999999\n",
      "The region with maximum tot is ['america_north'] with a percentage of 9.102812499999999\n",
      "The region with minimum tot is ['asia_west'] with a percentage of 4.805465686274508\n"
     ]
    }
   ],
   "source": [
    "# Using Pandas Query to determine the region with max and min value\n",
    "\n",
    "for i in ['govt','pvt','oop','tot']:\n",
    "    print(\"The region with maximum {} is {} with a percentage of {}\".format(i,list(df_avgyear[df_avgyear[i]==df_avgyear[i].max()]['subregion']),df_avgyear[i].max()))\n",
    "    print(\"The region with minimum {} is {} with a percentage of {}\".format(i,list(df_avgyear[df_avgyear[i]==df_avgyear[i].min()]['subregion']),df_avgyear[i].min()))"
   ]
  },
  {
   "cell_type": "markdown",
   "metadata": {},
   "source": [
    ">Graphical representation of each entity- Government,Private,Out of Pocket, Total "
   ]
  },
  {
   "cell_type": "code",
   "execution_count": 33,
   "metadata": {
    "scrolled": false
   },
   "outputs": [
    {
     "name": "stderr",
     "output_type": "stream",
     "text": [
      "C:\\Users\\srathnagiriswaran\\AppData\\Local\\Continuum\\anaconda3\\lib\\site-packages\\seaborn\\categorical.py:1460: FutureWarning: remove_na is deprecated and is a private function. Do not use.\n",
      "  stat_data = remove_na(group_data)\n"
     ]
    },
    {
     "data": {
      "image/png": "[encoded data removed]",
      "text/plain": [
       "<matplotlib.figure.Figure at 0x3af43c8358>"
      ]
     },
     "metadata": {},
     "output_type": "display_data"
    },
    {
     "data": {
      "image/png": "[encoded data removed]",
      "text/plain": [
       "<matplotlib.figure.Figure at 0x3af43c8ef0>"
      ]
     },
     "metadata": {},
     "output_type": "display_data"
    },
    {
     "data": {
      "image/png": "[encoded data removed]",
      "text/plain": [
       "<matplotlib.figure.Figure at 0x3af3ddc470>"
      ]
     },
     "metadata": {},
     "output_type": "display_data"
    },
    {
     "data": {
      "image/png": "[encoded data removed]",
      "text/plain": [
       "<matplotlib.figure.Figure at 0x3af4532630>"
      ]
     },
     "metadata": {},
     "output_type": "display_data"
    }
   ],
   "source": [
    "# Plotting Bar Plots for each entity using Matplotlib and Seaborn\n",
    "\n",
    "for i in ['govt','pvt','oop','tot']:\n",
    "    sns.set(style='whitegrid')\n",
    "    plt.figure(figsize=(20,10))\n",
    "    plt.legend()\n",
    "    plt.title('{} Share of Total Health Spending accross sub-regions'.format(i))\n",
    "    sns.barplot(y=i,x='subregion',data=df_avgyear.sort_values(i,ascending=False))\n",
    "    plt.show();\n"
   ]
  },
  {
   "cell_type": "markdown",
   "metadata": {},
   "source": [
    "### Research Question 3- Are the entities correlated and if so how?"
   ]
  },
  {
   "cell_type": "markdown",
   "metadata": {},
   "source": [
    ">What is the correlation between each of the entities- Government/Private/Out of Pocket and Total"
   ]
  },
  {
   "cell_type": "code",
   "execution_count": 34,
   "metadata": {},
   "outputs": [
    {
     "data": {
      "image/png": "[encoded data removed]",
      "text/plain": [
       "<matplotlib.figure.Figure at 0x3af43e1be0>"
      ]
     },
     "metadata": {},
     "output_type": "display_data"
    }
   ],
   "source": [
    "# Plotting scatterplots between Govt and Pvt using Matplotlib and Seaborn \n",
    "\n",
    "sns.set_style('ticks')\n",
    "plt.scatter(x='govt', y='pvt',data= df_avgyear)\n",
    "plt.xlabel('Government Share of Total Health Spending')\n",
    "plt.ylabel('Private Share of Total Health Spending')\n",
    "plt.title('Correlation between Govt/Pvt Share of Total Health Spending')\n",
    "plt.show()"
   ]
  },
  {
   "cell_type": "markdown",
   "metadata": {},
   "source": [
    ">Correlation based on Scatter Plots:  \n",
    ">There appears to be a **strong negative correlation** between Goverment Share of Total Spending and Private Share of Total Spending"
   ]
  },
  {
   "cell_type": "code",
   "execution_count": 36,
   "metadata": {
    "scrolled": true
   },
   "outputs": [
    {
     "data": {
      "image/png": "[encoded data removed]",
      "text/plain": [
       "<matplotlib.figure.Figure at 0x3af4f46668>"
      ]
     },
     "metadata": {},
     "output_type": "display_data"
    }
   ],
   "source": [
    "# Plotting scatterplots between Govt and Oop using Matplotlib and Seaborn \n",
    "\n",
    "plt.scatter(x='govt', y='oop',data= df_avgyear)\n",
    "plt.xlabel('Government Share of Total Health Spending')\n",
    "plt.ylabel('Out of Pocket Share of Total Health Spending')\n",
    "plt.title('Correlation between Govt/OOP Share of Total Health Spending')\n",
    "plt.show()"
   ]
  },
  {
   "cell_type": "markdown",
   "metadata": {},
   "source": [
    ">Correlation based on Scatter Plots:  \n",
    ">There appears to be **negative correlation** between Government Share of Total Spending and Out of Pocket Share of Total Spending"
   ]
  },
  {
   "cell_type": "code",
   "execution_count": 37,
   "metadata": {},
   "outputs": [
    {
     "data": {
      "image/png": "[encoded data removed]",
      "text/plain": [
       "<matplotlib.figure.Figure at 0x3af4f77630>"
      ]
     },
     "metadata": {},
     "output_type": "display_data"
    }
   ],
   "source": [
    "# Plotting scatterplots between Oop and Pvt using Matplotlib and Seaborn \n",
    "\n",
    "plt.scatter(x='oop', y='pvt',data= df_avgyear)\n",
    "plt.xlabel('OOP Share of Total Health Spending')\n",
    "plt.ylabel('Private Share of Total Health Spending')\n",
    "plt.title('Correlation between OOP/Pvt Share of Total Health Spending')\n",
    "plt.show()"
   ]
  },
  {
   "cell_type": "markdown",
   "metadata": {},
   "source": [
    ">Correlation based on Scatter Plots:  \n",
    ">There appears to be **positive correlation** between Private Share of Total Spending and Out-of-Pocket Share of Total Spending\n"
   ]
  },
  {
   "cell_type": "code",
   "execution_count": 38,
   "metadata": {},
   "outputs": [
    {
     "data": {
      "image/png": "[encoded data removed]",
      "text/plain": [
       "<matplotlib.figure.Figure at 0x3af527b1d0>"
      ]
     },
     "metadata": {},
     "output_type": "display_data"
    }
   ],
   "source": [
    "# Plotting scatterplots between Govt and tot using Matplotlib and Seaborn \n",
    "\n",
    "plt.scatter(x='govt', y='tot',data= df_avgyear)\n",
    "plt.xlabel('Government Share of Total Health Spending')\n",
    "plt.ylabel('Total Health Spending as a % of GDP')\n",
    "plt.title('Correlation between Total Health spending as a % of GDP and Govt Share of Total Health Spending')\n",
    "plt.show()"
   ]
  },
  {
   "cell_type": "markdown",
   "metadata": {},
   "source": [
    ">Correlation based on Scatter Plots:  \n",
    ">There appears to be **possitive corrrelation** between Government Share of Total Spending and Total Health Spending as a % of GDP\n",
    " "
   ]
  },
  {
   "cell_type": "code",
   "execution_count": 39,
   "metadata": {},
   "outputs": [
    {
     "data": {
      "image/png": "[encoded data removed]",
      "text/plain": [
       "<matplotlib.figure.Figure at 0x3af4f9f0b8>"
      ]
     },
     "metadata": {},
     "output_type": "display_data"
    }
   ],
   "source": [
    "# Plotting scatterplots between Pvt and tot using Matplotlib and Seaborn \n",
    "\n",
    "plt.scatter(x='pvt', y='tot',data= df_avgyear)\n",
    "plt.xlabel('Private Share of Total Health Spending')\n",
    "plt.ylabel('Total Health Spending as a % of GDP')\n",
    "plt.title('Correlation between Total Health spending as a % of GDP and Pvt Share of Total Health Spending')\n",
    "plt.show()"
   ]
  },
  {
   "cell_type": "markdown",
   "metadata": {},
   "source": [
    ">Correlation based on Scatter Plots:   \n",
    " There doesn't seem to be a correlation between 'Private Share of Total Health Spending' and 'Total Health Spending as a % of GDP'"
   ]
  },
  {
   "cell_type": "code",
   "execution_count": 40,
   "metadata": {},
   "outputs": [
    {
     "data": {
      "image/png": "[encoded data removed]",
      "text/plain": [
       "<matplotlib.figure.Figure at 0x3af4f7db70>"
      ]
     },
     "metadata": {},
     "output_type": "display_data"
    }
   ],
   "source": [
    "# Plotting scatterplots between Oop and Tot using Matplotlib and Seaborn \n",
    "\n",
    "plt.scatter(x='oop', y='tot',data= df_avgyear)\n",
    "plt.xlabel('Out of Pocket Share of Total Health Spending')\n",
    "plt.ylabel('Total Health Spending as a % of GDP')\n",
    "plt.title('Correlation between Total Health spending as a % of GDP and OOP Share of Total Health Spending')\n",
    "plt.show()"
   ]
  },
  {
   "cell_type": "markdown",
   "metadata": {},
   "source": [
    ">Correlation based on Scatter Plots:  \n",
    " There appears to be **negative correlation** between Out of Pocket Share of Total Health Spending and Total Health Spending as % of GDP"
   ]
  },
  {
   "cell_type": "markdown",
   "metadata": {},
   "source": [
    "<a id='conclusions'></a>\n",
    "## Conclusions\n",
    "\n",
    ">One of the limitations to these findings was that the 'Out of Pocket Share of Health spending' dataset only had data for 148 countries while the remaining datasets had records for 190 countries. In order to compare various entities from these datasets, we had to do a inner join while joining datasets there by reducing the number of countries for analysis. \n",
    "\n",
    "> To handle null data values, we removed the rows containing null values. \n",
    "\n",
    ">These may affect the findings below.\n",
    "\n",
    ">To summarize the findings:\n",
    "\n",
    ">**Europe West** has the highest 'Government Share of Health spending' (73.8%) and the lowest 'Private Share of Health Spending' (25.96%) and lowest 'Out of Pocket Share of Health Spending' (19.55%)  \n",
    "  **Asia West** has the highest 'Out of Pocket Share of Health Spending' (42.44%) and the lowest 'Total Share of Health Spending' (4.8%)  \n",
    "  **Africa Sub Saharan** has the lowest 'Government Share of Health spending' (46.06%) and the highest 'Private Share of Health spending' (53.93%)  \n",
    "  **America North** has the highest 'Total Share of Health Spending (Public and Private) as a % of GDP' (9.10%)  \n",
    "  \n",
    "  >Correlation based on Scatter Plots:\n",
    ">\n",
    " * There appears to be a **strong negative correlation** between Goverment Share of Total Spending and Private Share of Total Spending\n",
    " * There appears to be **positive correlation** between Private Share of Total Spending and Out-of-Pocket Share of Total Spending\n",
    " * There appears to be **negative correlation** between Government Share of Total Spending and Out of Pocket Share of Total Spending\n",
    " * There appears to be **possitive corrrelation** between Government Share of Total Spending and Total Health Spending as a % of GDP\n",
    " * There appears to be **negative correlation** between Out of Pocket Share of Total Health Spending and Total Health Spending as % of GDP\n",
    "\n"
   ]
  },
  {
   "cell_type": "code",
   "execution_count": null,
   "metadata": {
    "collapsed": true
   },
   "outputs": [],
   "source": []
  }
 ],
 "metadata": {
  "kernelspec": {
   "display_name": "Python [default]",
   "language": "python",
   "name": "python3"
  },
  "language_info": {
   "codemirror_mode": {
    "name": "ipython",
    "version": 3
   },
   "file_extension": ".py",
   "mimetype": "text/x-python",
   "name": "python",
   "nbconvert_exporter": "python",
   "pygments_lexer": "ipython3",
   "version": "3.6.3"
  }
 },
 "nbformat": 4,
 "nbformat_minor": 2
}
